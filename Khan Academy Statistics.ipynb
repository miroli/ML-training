{
 "cells": [
  {
   "cell_type": "markdown",
   "metadata": {},
   "source": [
    "# Khan Academy Statistics"
   ]
  },
  {
   "cell_type": "markdown",
   "metadata": {},
   "source": [
    "## 1. Independent and dependent events"
   ]
  },
  {
   "cell_type": "markdown",
   "metadata": {},
   "source": [
    "### 1.1. Basic probability"
   ]
  },
  {
   "cell_type": "markdown",
   "metadata": {},
   "source": [
    "The __probability__ of an event is equal to the __number of ways it can happen divided by the number of outcomes__.\n",
    "\n",
    "The probability of getting heads when flipping a coin is 0.5. There is only one way it can happen, and the number of outcomes is two. $ 1 / 2 = 0.5 $."
   ]
  },
  {
   "cell_type": "markdown",
   "metadata": {},
   "source": [
    "### 1.2. Venn diagrams and adding probabilities"
   ]
  },
  {
   "cell_type": "markdown",
   "metadata": {},
   "source": [
    "The __addition rule for probability__ states that $P(A or B)$ is equal to $P(A) + P(B) - P(A and B) $."
   ]
  },
  {
   "cell_type": "markdown",
   "metadata": {},
   "source": [
    "### 1.3. Compound, independent events"
   ]
  },
  {
   "cell_type": "markdown",
   "metadata": {},
   "source": [
    "The __multiplication rule__ for the probability of independent events states that the compound probability of multiple events is equal to the multiplication of all the probabilities. Hence, the probability of flipping heads two times in a row is $\\frac{1}{2}*\\frac{1}{2}=\\frac{1}{4}$.\n",
    "\n",
    "Example: Probability of getting at least one heads in 10 coin flips. That is equal to getting not all tails in 10 flips. For every flip, the probability of getting heads is $\\frac{1}{2}$, so the probability of getting tails for all 10 flips is $\\frac{1}{2}^{10}$ which means that the probability of getting not all tails in 10 flips is $\\frac{1}{2}^{10} = 0.999$."
   ]
  },
  {
   "cell_type": "markdown",
   "metadata": {},
   "source": [
    "### 1.4. Dependent probability"
   ]
  },
  {
   "cell_type": "markdown",
   "metadata": {},
   "source": [
    "Scenario: There's a box containing 2 red marbles and 3 green marbles. You pay \\$0.35 to play a game in which you win \\$1 if you pick 2 green marbles in a row. Should you play?\n",
    "\n",
    "Answer: The probability of you picking 2 green marbles in a row is $\\frac{3}{5}*\\frac{2}{4}$ since the second probability is altered by you picking one marble. The probability is thus $\\frac{12}{20}*\\frac{10}{20}=\\frac{120}{400}=\\frac{3}{10}=0.3$. So every time you play, your expected profit is \\$0.3, whereas your bet is \\$0.35, which means you're loosing money in the long run."
   ]
  },
  {
   "cell_type": "markdown",
   "metadata": {},
   "source": [
    "### 1.5. Basic set operations"
   ]
  },
  {
   "cell_type": "markdown",
   "metadata": {},
   "source": [
    "A set is a list of distinct values. There are two special symbols used in conjunction with sets, the __intersection__ symbol $\\cap$ and the __union symbol__ $\\cup$.\n",
    "\n",
    "* $A\\cap B$ refers to the intersection, or common elements, in sets $A$ and $B$.\n",
    "* $A\\cup B$ refers to the union, or all elements in sets $A$ and $B$ combined.\n",
    "\n",
    "If you subtract one set from another, $A - B$, then you remove all elements in $B$ from $A$. The correct notation for this operation involves the __set difference__ operator. $A \\setminus B$ means all the things in set $A$ that are not in set $B$, or, the relative complement of B in A. This is also called the set difference between $A$ and $B$. So, $A \\setminus B = A - B$.\n",
    "\n",
    "Some common sets are written using __double bold__ text. For example, $\\mathbb{Z}$ is the symbol for all integers.\n",
    "\n",
    "A __universal set__ is a set comprised of all the things that we're interested in (e.g. all blonde people with bicycles). The __absolute complement__ of a set is all the things in the universal set that are not in the set.\n",
    "\n",
    "$A\\subset B$ means that A is a __subset__ of B (contains only elements that are in B). $A\\supset B$ means that A is a __superset__ of B (contains all of B's members). "
   ]
  },
  {
   "cell_type": "markdown",
   "metadata": {},
   "source": [
    "## 2. Probability and combinatorics"
   ]
  },
  {
   "cell_type": "markdown",
   "metadata": {},
   "source": [
    "### 2.1. Permutations"
   ]
  },
  {
   "cell_type": "markdown",
   "metadata": {},
   "source": [
    "A __permutation__ is one way of ordering the elements of a set. For example, the different permutations of set $\\{1,2,3\\}$ is $(1,2,3)$, $(1,3,2)$, $(2,1,3)$, $(2,3,1)$, $(3,1,2)$, $(3,2,1)$. A __factorial__ is the product of a number and all positive numbers below it. So the factorial of 3 is $3*2*1$. The notation for factorials is $n!$.\n",
    "\n",
    "The number of permutations of a set is the factorial of the number of elements in the set. So the number of permutations for a set of 12 numbers is $12!$.\n",
    "\n",
    "If the number of positions each element can occupy ($r$) is limited, you divide the factorial of the number of elements ($n$) with $n-r$. This is called a __partial permutation__. Example: If there are 5 people and 5 chairs, the number of permutations is $5! = 5*4*3*2*1 = 120$. If there are 5 people but only 3 chairs, the number of permutations is $\\frac{5!}{(5-3)!} = \\frac{5!}{2!} = \\frac{120}{2} = 60$.\n",
    "\n",
    "The general __permutation formula__ is $$\\frac{n!}{(n-r)!}$$.\n",
    "\n",
    "Note: If we're asking how many 3-letter combinations a 26-letter alphabet can construct, we can just raise 26 to the third power ($26^3$) to get the answer if the same letter can appear multiple times. If any letter can only appear once then we can use permutations. So, $\\frac{26!}{(26-3)!}$.\n",
    "\n",
    "The factorial of 0 is 1."
   ]
  },
  {
   "cell_type": "markdown",
   "metadata": {},
   "source": [
    "### 2.2. Combinations"
   ]
  },
  {
   "cell_type": "markdown",
   "metadata": {},
   "source": [
    "A __combination__ is a way of selecting items from a collection such that, unlike with permutations, the order of selection does not matter. So $A, B, C$ and $B, C, A$ would be the same combination.\n",
    "\n",
    "Calculating combinations is intuitive and simple. Simply calculate the number of permutations, then divide by the number of redundancies. The number of permutations for $A, B, C, D, E, F$ for 3 given slots is 120. The number of ways to arrange 3 letters ($A, B, C$) is 6. These are the redundancies. So we divide 120 by 6 and get 20.\n",
    "\n",
    "If $n$ is the number of elements and $k$ is the number of spots that we can place them in, the formula is: $$\\frac{\\frac{n!}{(n-k)!}}{k!} = \\frac{n!}{k!(n-k)!} $$\n",
    "\n",
    "This is commonly read as \"n choose k\" and is abbreviated with this notation: $$\\dbinom{n}{k}$$\n",
    "\n",
    "(Remember that $12/4/2 = 12/(4*2) = 12/2/2/2$.)"
   ]
  },
  {
   "cell_type": "markdown",
   "metadata": {},
   "source": [
    "__Example__: How many ways can 4 people shake hands with each other? First, calculate how many ways we can arrange 4 people into two slots. $4!/2! = 4*3*2*1/2*1 = 4*3 = 12$. This gives us all the permutations for the 4 people shaking hands. But we don't care about order. So, person A shaking person B's hand to us is the same thing as person B shaking A's hand. To get the combinations we just divide by the number of ways you can arrange 2 people, which is 2: $4!/2!(4-2)! = 6$. So the answer is 6.\n",
    "\n",
    "__Example__: We have a card deck of 36 cards, from 1 to 9 in each suit. How many possible 9-card combinations (note: order does not matter) can we choose from the deck? The answer must be $$\\frac{36!}{36!(36-9)!}$$. Calculation below:"
   ]
  },
  {
   "cell_type": "code",
   "execution_count": 10,
   "metadata": {
    "collapsed": false
   },
   "outputs": [
    {
     "data": {
      "text/plain": [
       "94143280L"
      ]
     },
     "execution_count": 10,
     "metadata": {},
     "output_type": "execute_result"
    }
   ],
   "source": [
    "import math\n",
    "math.factorial(36) / (math.factorial(9) * math.factorial(36-9))"
   ]
  },
  {
   "cell_type": "markdown",
   "metadata": {},
   "source": [
    "### 2.3. Probability using combinatorics"
   ]
  },
  {
   "cell_type": "markdown",
   "metadata": {},
   "source": [
    "What is the probability of getting exactly 2 heads when flipping a coin 4 times?\n",
    "\n",
    "* __Step 1__: There are 16 different possibilities in total ($2*2*2*2$).\n",
    "* __Step 2__: There are 12 different ways to arrange 2 heads and 2 tails, since for head A, there are 4 places, and for head B, there are 3 remaining places. $4*3=12$. \n",
    "* __Step 3__: But this is double counting, since the only difference between some of these scenarios is the 2 heads switching places. So we need to divide 12 by 2 to get the number of scenarios of getting exactly 2 heads, regardless of which position each head has.\n",
    "* __Step 4__: $12/2=6$ and since each arrangement has $\\frac{1}{16}$ chance of happening, the probability of getting exactly 2 heads on 4 flips is $\\frac{6}{16} = \\frac{3}{8}$."
   ]
  },
  {
   "cell_type": "markdown",
   "metadata": {},
   "source": [
    "What is the probability of scoring exactly 3 out of 5 basketball shots if the probability of scoring one shot is 80%?\n",
    "\n",
    "* __Step 1__: The probability of any one particular combination of 3 scores and 2 misses is $(0.8)^3*(0.2)^2 = 0.0205$.\n",
    "* __Step 2__: The number of combinations of three scores in 5 shots is \"five choose three\": $\\frac{5!}{3!(5-3)!} = 10$.\n",
    "* __Step 3__: Multiply the probability of getting one particular combination of 3 scores with the total number of combinations: $0.0205 * 10 = 0.205 = 20.5\\%$.\n",
    "\n",
    "To calculate the probability of getting _at least_ 3 scores, you just add the probabilities of getting exactly 3, exactly 4 and exactly 5 scores. This adds up to around $94\\%$."
   ]
  },
  {
   "cell_type": "markdown",
   "metadata": {},
   "source": [
    "## 3. Statistical studies"
   ]
  },
  {
   "cell_type": "markdown",
   "metadata": {},
   "source": []
  },
  {
   "cell_type": "markdown",
   "metadata": {},
   "source": [
    "## 4. Descriptive statistics"
   ]
  },
  {
   "cell_type": "markdown",
   "metadata": {},
   "source": [
    "The __mode__ of a data set is the most common value in the set.\n",
    "\n",
    "* Quartiles\n",
    "* Range\n",
    "* Box plot"
   ]
  },
  {
   "cell_type": "markdown",
   "metadata": {},
   "source": [
    "## 5. Random variables and probability distributions"
   ]
  },
  {
   "cell_type": "markdown",
   "metadata": {},
   "source": [
    "## 6. Regression"
   ]
  },
  {
   "cell_type": "markdown",
   "metadata": {},
   "source": [
    "## 7. Inferential statistics"
   ]
  },
  {
   "cell_type": "markdown",
   "metadata": {},
   "source": [
    "## 8. Miscellaneous"
   ]
  },
  {
   "cell_type": "code",
   "execution_count": null,
   "metadata": {
    "collapsed": true
   },
   "outputs": [],
   "source": []
  }
 ],
 "metadata": {
  "kernelspec": {
   "display_name": "Python 2",
   "language": "python",
   "name": "python2"
  },
  "language_info": {
   "codemirror_mode": {
    "name": "ipython",
    "version": 2
   },
   "file_extension": ".py",
   "mimetype": "text/x-python",
   "name": "python",
   "nbconvert_exporter": "python",
   "pygments_lexer": "ipython2",
   "version": "2.7.10"
  }
 },
 "nbformat": 4,
 "nbformat_minor": 0
}
