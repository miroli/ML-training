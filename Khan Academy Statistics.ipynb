{
 "cells": [
  {
   "cell_type": "markdown",
   "metadata": {},
   "source": [
    "# Khan Academy Statistics"
   ]
  },
  {
   "cell_type": "markdown",
   "metadata": {},
   "source": [
    "## 1. Independent and dependent events"
   ]
  },
  {
   "cell_type": "markdown",
   "metadata": {},
   "source": [
    "### 1.1. Basic probability"
   ]
  },
  {
   "cell_type": "markdown",
   "metadata": {},
   "source": [
    "The __probability__ of an event is equal to the __number of ways it can happen divided by the number of outcomes__.\n",
    "\n",
    "The probability of getting heads when flipping a coin is 0.5. There is only one way it can happen, and the number of outcomes is two. $ 1 / 2 = 0.5 $."
   ]
  },
  {
   "cell_type": "markdown",
   "metadata": {},
   "source": [
    "### 1.2. Venn diagrams and adding probabilities"
   ]
  },
  {
   "cell_type": "markdown",
   "metadata": {},
   "source": [
    "The __addition rule for probability__ states that $P(A or B)$ is equal to $P(A) + P(B) - P(A and B) $."
   ]
  },
  {
   "cell_type": "markdown",
   "metadata": {},
   "source": [
    "### 1.3. Compound, independent events"
   ]
  },
  {
   "cell_type": "markdown",
   "metadata": {},
   "source": [
    "The __multiplication rule__ for the probability of independent events states that the compound probability of multiple events is equal to the multiplication of all the probabilities. Hence, the probability of flipping heads two times in a row is $\\frac{1}{2}*\\frac{1}{2}=\\frac{1}{4}$.\n",
    "\n",
    "Example: Probability of getting at least one heads in 10 coin flips. That is equal to getting not all tails in 10 flips. For every flip, the probability of getting heads is $\\frac{1}{2}$, so the probability of getting tails for all 10 flips is $\\frac{1}{2}^{10}$ which means that the probability of getting not all tails in 10 flips is $\\frac{1}{2}^{10} = 0.999$."
   ]
  },
  {
   "cell_type": "markdown",
   "metadata": {},
   "source": [
    "### 1.4. Dependent probability"
   ]
  },
  {
   "cell_type": "markdown",
   "metadata": {},
   "source": [
    "Scenario: There's a box containing 2 red marbles and 3 green marbles. You pay \\$0.35 to play a game in which you win \\$1 if you pick 2 green marbles in a row. Should you play?\n",
    "\n",
    "Answer: The probability of you picking 2 green marbles in a row is $\\frac{3}{5}*\\frac{2}{4}$ since the second probability is altered by you picking one marble. The probability is thus $\\frac{12}{20}*\\frac{10}{20}=\\frac{120}{400}=\\frac{3}{10}=0.3$. So every time you play, your expected profit is \\$0.3, whereas your bet is \\$0.35, which means you're loosing money in the long run."
   ]
  },
  {
   "cell_type": "markdown",
   "metadata": {},
   "source": [
    "### 1.5. Basic set operations"
   ]
  },
  {
   "cell_type": "markdown",
   "metadata": {},
   "source": [
    "A set is a list of distinct values. There are two special symbols used in conjunction with sets, the __intersection__ symbol $\\cap$ and the __union symbol__ $\\cup$.\n",
    "\n",
    "* $A\\cap B$ refers to the intersection, or common elements, in sets $A$ and $B$.\n",
    "* $A\\cup B$ refers to the union, or all elements in sets $A$ and $B$ combined.\n",
    "\n",
    "If you subtract one set from another, $A - B$, then you remove all elements in $B$ from $A$. The correct notation for this operation involves the __set difference__ operator. $A \\setminus B$ means all the things in set $A$ that are not in set $B$, or, the relative complement of B in A. This is also called the set difference between $A$ and $B$. So, $A \\setminus B = A - B$.\n",
    "\n",
    "Some common sets are written using __double bold__ text. For example, $\\mathbb{Z}$ is the symbol for all integers.\n",
    "\n",
    "A __universal set__ is a set comprised of all the things that we're interested in (e.g. all blonde people with bicycles). The __absolute complement__ of a set is all the things in the universal set that are not in the set.\n",
    "\n",
    "$A\\subset B$ means that A is a __subset__ of B (contains only elements that are in B). $A\\supset B$ means that A is a __superset__ of B (contains all of B's members). "
   ]
  },
  {
   "cell_type": "markdown",
   "metadata": {},
   "source": [
    "## 2. Probability and combinatorics"
   ]
  },
  {
   "cell_type": "markdown",
   "metadata": {},
   "source": [
    "## 3. Statistical studies"
   ]
  },
  {
   "cell_type": "markdown",
   "metadata": {},
   "source": [
    "## 4. Descriptive statistics"
   ]
  },
  {
   "cell_type": "markdown",
   "metadata": {},
   "source": [
    "## 5. Random variables and probability distributions"
   ]
  },
  {
   "cell_type": "markdown",
   "metadata": {},
   "source": [
    "## 6. Regression"
   ]
  },
  {
   "cell_type": "markdown",
   "metadata": {},
   "source": [
    "## 7. Inferential statistics"
   ]
  },
  {
   "cell_type": "markdown",
   "metadata": {},
   "source": [
    "## 8. Miscellaneous"
   ]
  },
  {
   "cell_type": "code",
   "execution_count": null,
   "metadata": {
    "collapsed": true
   },
   "outputs": [],
   "source": []
  }
 ],
 "metadata": {
  "kernelspec": {
   "display_name": "Python 2",
   "language": "python",
   "name": "python2"
  },
  "language_info": {
   "codemirror_mode": {
    "name": "ipython",
    "version": 2
   },
   "file_extension": ".py",
   "mimetype": "text/x-python",
   "name": "python",
   "nbconvert_exporter": "python",
   "pygments_lexer": "ipython2",
   "version": "2.7.10"
  }
 },
 "nbformat": 4,
 "nbformat_minor": 0
}
