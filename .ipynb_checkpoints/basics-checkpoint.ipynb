{
 "cells": [
  {
   "cell_type": "markdown",
   "metadata": {},
   "source": [
    "# Basic prerequisites for machine learning\n",
    "\n",
    "This notebook contains explanations of basic statistical concepts such as calculating standard deviation and correlation coefficient."
   ]
  },
  {
   "cell_type": "markdown",
   "metadata": {},
   "source": [
    "## Content\n",
    "- [Standard deviation](#Standard-deviation)\n",
    "- [Correlation](#Correlation)\n",
    "- [Linear regression](#Linear-regression)"
   ]
  },
  {
   "cell_type": "code",
   "execution_count": 2,
   "metadata": {
    "collapsed": true
   },
   "outputs": [],
   "source": [
    "import numpy as np\n",
    "from scipy.stats import pearsonr\n",
    "from __future__ import division"
   ]
  },
  {
   "cell_type": "markdown",
   "metadata": {},
   "source": [
    "## Standard deviation\n",
    "\n",
    "> Standard deviation is a measure that is used to quantify the amount of variation or dispersion of a set of data values. – [Wikipedia](https://en.wikipedia.org/wiki/Standard_deviation)\n",
    "\n",
    "$$s = \\sqrt{\\frac{\\Sigma{(x_i - \\overline{x})^2}}{n-1}}$$\n",
    "\n",
    "Above is the mathematical notation for the calculation of standard deviation. The steps are explained in greater detail below, with this example data: `[27, 28, 30, 45]`."
   ]
  },
  {
   "cell_type": "markdown",
   "metadata": {},
   "source": [
    "__1. Find the average of the data set: $\\overline{x}$__"
   ]
  },
  {
   "cell_type": "code",
   "execution_count": 27,
   "metadata": {
    "collapsed": true
   },
   "outputs": [],
   "source": [
    "sd_data = [27, 28, 30, 45]\n",
    "sd_avg = np.average(sd_data) # 32.5"
   ]
  },
  {
   "cell_type": "markdown",
   "metadata": {},
   "source": [
    "__2. Take each value in the data set and subtract the mean from it: $x_i - \\overline{x}$__"
   ]
  },
  {
   "cell_type": "code",
   "execution_count": 28,
   "metadata": {
    "collapsed": true
   },
   "outputs": [],
   "source": [
    "sd_mean_differences = [x - sd_avg for x in sd_data]\n",
    "# [-5.5, -4.5, -2.5, 12.5]"
   ]
  },
  {
   "cell_type": "markdown",
   "metadata": {},
   "source": [
    "__3. Square each of the differences: $(x_i - \\overline{x})^2$__"
   ]
  },
  {
   "cell_type": "code",
   "execution_count": 29,
   "metadata": {
    "collapsed": true
   },
   "outputs": [],
   "source": [
    "sd_diff_squares = [np.square(x) for x in sd_mean_differences]\n",
    "# [30.25, 20.25, 6.25, 156.25]"
   ]
  },
  {
   "cell_type": "markdown",
   "metadata": {},
   "source": [
    "__4. Add the squared differences: $\\Sigma{(x_i - \\overline{x})^2}$__"
   ]
  },
  {
   "cell_type": "code",
   "execution_count": 30,
   "metadata": {
    "collapsed": true
   },
   "outputs": [],
   "source": [
    "sd_squares_sums = sum(sd_diff_squares)\n",
    "# 213.0"
   ]
  },
  {
   "cell_type": "markdown",
   "metadata": {},
   "source": [
    "__5. Divide that sum with the length of the data minus 1: $\\frac{\\Sigma{(x_i - \\overline{x})^2}}{n-1}$__"
   ]
  },
  {
   "cell_type": "code",
   "execution_count": 31,
   "metadata": {
    "collapsed": true
   },
   "outputs": [],
   "source": [
    "sd_squares_div = sd_squares_sums / (len(sd_data) - 1)\n",
    "# 71.0"
   ]
  },
  {
   "cell_type": "markdown",
   "metadata": {},
   "source": [
    "__6. Take the square root from the previous step's to get the final result: $\\sqrt{\\frac{\\Sigma{(x_i - \\overline{x})^2}}{n-1}}$__"
   ]
  },
  {
   "cell_type": "code",
   "execution_count": 39,
   "metadata": {
    "collapsed": false
   },
   "outputs": [
    {
     "data": {
      "text/plain": [
       "8.426149773176359"
      ]
     },
     "execution_count": 39,
     "metadata": {},
     "output_type": "execute_result"
    }
   ],
   "source": [
    "np.sqrt(sd_squares_div)"
   ]
  },
  {
   "cell_type": "markdown",
   "metadata": {},
   "source": [
    "The calculation can be done in one step with numpy's built-in `std`."
   ]
  },
  {
   "cell_type": "code",
   "execution_count": 45,
   "metadata": {
    "collapsed": false
   },
   "outputs": [
    {
     "data": {
      "text/plain": [
       "8.426149773176359"
      ]
     },
     "execution_count": 45,
     "metadata": {},
     "output_type": "execute_result"
    }
   ],
   "source": [
    "np.std(sd_data, ddof=1)"
   ]
  },
  {
   "cell_type": "markdown",
   "metadata": {},
   "source": [
    "## Correlation\n",
    "\n",
    "> A measure of the strength and direction of the linear relationship between two variables. [Wikipedia](https://en.wikipedia.org/wiki/Pearson_product-moment_correlation_coefficient)\n",
    "\n",
    "$$r = \\frac{1}{n-1}\\left(\\frac{\\sum\\limits_{x}\\sum\\limits_{y}(x-\\overline{x})(y-\\overline{y})}{s_x s_y}\\right)$$\n",
    "\n",
    "By correlation, I'm here referring to the Pearson correlation coefficient. The calculation formula is stated above. The calculation steps are explained below, with the following data: `[{'x': 10, 'y': 15}, {'x': 20, 'y': 28}, {'x': 6, 'y': 12}]`."
   ]
  },
  {
   "cell_type": "markdown",
   "metadata": {},
   "source": [
    "__1. Find the mean of all x-values, and the mean of all y-values: $\\overline{x} \\overline{y}$__"
   ]
  },
  {
   "cell_type": "code",
   "execution_count": 47,
   "metadata": {
    "collapsed": true
   },
   "outputs": [],
   "source": [
    "cr_data = [{'x': 10, 'y': 15}, {'x': 20, 'y': 28}, {'x': 6, 'y': 12}]\n",
    "cr_x_mean = np.mean([d['x'] for d in cr_data])\n",
    "cr_y_mean = np.mean([d['y'] for d in cr_data])"
   ]
  },
  {
   "cell_type": "markdown",
   "metadata": {},
   "source": [
    "__2. Find the standard deviation for all x and y values: $s_x s_y$__"
   ]
  },
  {
   "cell_type": "code",
   "execution_count": 49,
   "metadata": {
    "collapsed": true
   },
   "outputs": [],
   "source": [
    "cr_x_std = np.std([d['x'] for d in cr_data], ddof=1)\n",
    "cr_y_std = np.std([d['y'] for d in cr_data], ddof=1)"
   ]
  },
  {
   "cell_type": "markdown",
   "metadata": {},
   "source": [
    "__3. For each of the x,y pairs, subtract the x mean from x and the y mean from y, then multiply together the results: $(x-\\overline{x})(y-\\overline{y})$.__"
   ]
  },
  {
   "cell_type": "code",
   "execution_count": 57,
   "metadata": {
    "collapsed": false
   },
   "outputs": [],
   "source": [
    "cr_diff_products = [(d['x'] - cr_x_mean) * (d['y'] - cr_y_mean) for d in cr_data]"
   ]
  },
  {
   "cell_type": "markdown",
   "metadata": {},
   "source": [
    "__4. Add up the results from the previous step: $\\sum\\limits_{x}\\sum\\limits_{y}(x-\\overline{x})(y-\\overline{y})$.__"
   ]
  },
  {
   "cell_type": "code",
   "execution_count": 61,
   "metadata": {
    "collapsed": false
   },
   "outputs": [],
   "source": [
    "cr_product_sum = sum(cr_diff_products)"
   ]
  },
  {
   "cell_type": "markdown",
   "metadata": {},
   "source": [
    "__5. Divide the sum by product of the standard deviation of x and y respectively: $\\frac{\\sum\\limits_{x}\\sum\\limits_{y}(x-\\overline{x})(y-\\overline{y})}{s_x s_y}$.__"
   ]
  },
  {
   "cell_type": "code",
   "execution_count": 62,
   "metadata": {
    "collapsed": true
   },
   "outputs": [],
   "source": [
    "cr_sum_div = cr_product_sum / (cr_x_std * cr_y_std)"
   ]
  },
  {
   "cell_type": "markdown",
   "metadata": {},
   "source": [
    "__6. Divide the result from the previous step by the number of data pairs minus 1 to get the correlation coefficient (same as multiplying by 1 over n – 1): $\\frac{1}{n-1}\\left(\\frac{\\sum\\limits_{x}\\sum\\limits_{y}(x-\\overline{x})(y-\\overline{y})}{s_x s_y}\\right)$.__"
   ]
  },
  {
   "cell_type": "code",
   "execution_count": 64,
   "metadata": {
    "collapsed": false
   },
   "outputs": [
    {
     "data": {
      "text/plain": [
       "0.99462397526908541"
      ]
     },
     "execution_count": 64,
     "metadata": {},
     "output_type": "execute_result"
    }
   ],
   "source": [
    "cr_sum_div / (len(cr_data) - 1)"
   ]
  },
  {
   "cell_type": "markdown",
   "metadata": {},
   "source": [
    "The same calculation can be done using the `scipy.stats.pearsonr` function."
   ]
  },
  {
   "cell_type": "code",
   "execution_count": 68,
   "metadata": {
    "collapsed": false
   },
   "outputs": [
    {
     "data": {
      "text/plain": [
       "0.9946239752690853"
      ]
     },
     "execution_count": 68,
     "metadata": {},
     "output_type": "execute_result"
    }
   ],
   "source": [
    "pearsonr([d['x'] for d in cr_data], [d['y'] for d in cr_data])[0]"
   ]
  },
  {
   "cell_type": "markdown",
   "metadata": {
    "collapsed": true
   },
   "source": [
    "## Linear regression\n",
    "\n",
    "_TODO_"
   ]
  },
  {
   "cell_type": "code",
   "execution_count": null,
   "metadata": {
    "collapsed": true
   },
   "outputs": [],
   "source": []
  }
 ],
 "metadata": {
  "kernelspec": {
   "display_name": "Python 2",
   "language": "python",
   "name": "python2"
  },
  "language_info": {
   "codemirror_mode": {
    "name": "ipython",
    "version": 2
   },
   "file_extension": ".py",
   "mimetype": "text/x-python",
   "name": "python",
   "nbconvert_exporter": "python",
   "pygments_lexer": "ipython2",
   "version": "2.7.10"
  }
 },
 "nbformat": 4,
 "nbformat_minor": 0
}
